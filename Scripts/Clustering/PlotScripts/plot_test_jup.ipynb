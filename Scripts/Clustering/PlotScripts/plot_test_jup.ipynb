{
 "cells": [
  {
   "cell_type": "code",
   "execution_count": 96,
   "id": "1d1c21ed",
   "metadata": {},
   "outputs": [],
   "source": [
    "# Testing \n",
    "import numpy as np \n",
    "import matplotlib.pyplot as plt\n",
    "import sys,os,time"
   ]
  },
  {
   "cell_type": "code",
   "execution_count": 97,
   "id": "2aea45de",
   "metadata": {},
   "outputs": [
    {
     "data": {
      "image/png": "[encoded data removed]",
      "text/plain": [
       "<Figure size 432x288 with 1 Axes>"
      ]
     },
     "metadata": {
      "needs_background": "light"
     },
     "output_type": "display_data"
    }
   ],
   "source": [
    "ids = [[0,0,0,1,2,2,3],[0,0,1,2,2,3],[2,1,2,2,3],[3,3,5,6],[3,5,6],[4,3]]\n",
    "\n",
    "st = 0\n",
    "N = 7\n",
    "for i in range(len(ids)):\n",
    "    y = [i for i in range(st,N)]\n",
    "    plt.scatter(y[0],ids[i][0])\n",
    "    plt.plot(y,ids[i])\n",
    "    st += 1\n",
    "plt.show()\n",
    "\n"
   ]
  },
  {
   "cell_type": "code",
   "execution_count": 98,
   "id": "f7f275ca",
   "metadata": {},
   "outputs": [
    {
     "data": {
      "image/png": "[encoded data removed]",
      "text/plain": [
       "<Figure size 432x288 with 1 Axes>"
      ]
     },
     "metadata": {
      "needs_background": "light"
     },
     "output_type": "display_data"
    }
   ],
   "source": [
    "def easy_plot(expnum, method):\n",
    "    if expnum == 12:\n",
    "        k = input(\"input k-value:\\n\")\n",
    "        filename = \"../../experiment12/experiment_12/k_\"+str(k)+\"/statistics/Cluster_tracker/\"+method.title()+\"/\"\n",
    "    else:\n",
    "        filename = \"../../experiment\"+str(expnum)+\"/statistics/Cluster_tracker/\"+method.title()+\"/\"\n",
    "\n",
    "    filename += \"tracking_all_branches_largest_cluster_in_each_slice.txt\"\n",
    "    \n",
    "    start_slice = []\n",
    "    ids = []\n",
    "    intersects = []\n",
    "    num_slices = []\n",
    "    with open(filename,\"r\") as infile:\n",
    "        infile.readline()\n",
    "        lines = infile.readlines()\n",
    "        num_exp= len(lines)\n",
    "        for line in lines:\n",
    "            data = line.split(\":\")\n",
    "            start_slice.append(int(data[0]))\n",
    "            id = [int(i) for i in data[1].strip(\"[]\").split(\",\")]\n",
    "            ids.append(id)\n",
    "            intersect = [float(i) for i in data[2].strip(\"[]\").split(\",\")]\n",
    "            intersects.append(intersect)\n",
    "            num_slices.append(int(data[3]))\n",
    "\n",
    "\n",
    "    start = 0\n",
    "    N = num_slices[0]\n",
    "    for i in range(num_exp):\n",
    "        #slices = [i for i in range(start_slice[i]+1,num_slices[0]+1)]\n",
    "        #iss = intersects[i][1:]\n",
    "        slices = [i for i in range(start, N)]\n",
    "        id = ids[i]\n",
    "        plt.scatter(slices[0],id[0])\n",
    "        plt.plot(slices,id)\n",
    "        start += 1\n",
    "    plt.show()\n",
    "\n",
    "\n",
    "\n",
    "#easy_plot(12,\"java\")\n",
    "easy_plot(6,\"louvain\")"
   ]
  },
  {
   "cell_type": "code",
   "execution_count": 99,
   "id": "bee1c7dc",
   "metadata": {},
   "outputs": [
    {
     "data": {
      "text/plain": [
       "'\\nks = [600,800]\\npath_to_res = \"./plots_from_notebook/\"\\n\\npath_2_6 = \"../../experiment6/experiment_6/\"\\nnum_slices = len(os.listdir(path_2_6)) + 1\\nlabel_lens = []\\ngraph_lens = []\\nfor i in range(1,num_slices):\\n    slice = path_2_6 + \"/slice_\" + str(i)\\n    labels = slice + \"/labels_\" + str(i) + \".csv\"\\n    graphs = slice + \"/graph_\" + str(i) + \".mat\"\\n\\n    with open(labels,\"r\") as inf:\\n        label_lens.append(len(inf.readlines()))\\n\\n    with open(graphs,\"r\") as inf:\\n        graph_lens.append(len(inf.readlines()))\\n\\nlabel_lens = np.array(label_lens)\\ngraph_lens = np.array(graph_lens)\\n\\nnp.save(path_to_res + \"exp6_len_labels.npy\",label_lens)\\nnp.save(path_to_res + \"exp6_len_graphs.npy\",graph_lens)\\n\\n\\n\\nfor k in ks:\\n    print(\"new k\")\\n\\n    label_lens = []\\n    graph_lens = []\\n    path = \"../../experiment12/experiment_12/k_\" + str(k) + \"/k\" + str(k)\\n    num_slices = len(os.listdir(path)) + 1\\n    for i in range(1,num_slices):\\n        slice = path + \"/slice_\" + str(i)\\n        labels = slice + \"/labels_\" + str(i) + \".csv\"\\n        graphs = slice + \"/graph_\" + str(i) + \".mat\"\\n        \\n        with open(labels,\"r\") as inf:\\n            label_lens.append(len(inf.readlines()))\\n\\n        with open(graphs,\"r\") as inf:\\n            graph_lens.append(len(inf.readlines()))\\n\\n    label_lens = np.array(label_lens)\\n    graph_lens = np.array(graph_lens)\\n\\n    np.save(path_to_res + \"k\" + str(k) + \"_len_labels.npy\",label_lens)\\n    np.save(path_to_res + \"k\" + str(k) + \"_len_graphs.npy\",graph_lens)\\n\\nfor k in ks:\\n    labels_file = path_to_res + \"k\" + str(k) + \"_len_labels.npy\"\\n    graphs_file = path_to_res + \"k\" + str(k) + \"_len_graphs.npy\"\\n\\n    labels = np.load(labels_file)\\n    graphs = np.load(graphs_file)\\n\\n    numS = [i+1 for i in range(len(labels))]\\n    numS = np.array(numS)\\n\\n    fig, axs = plt.subplots(1, 2)\\n    fig.suptitle(\"k \" + str(k))\\n    axs[0].plot(numS, labels, \".\")\\n    axs[0].set_title(\\'Nodes\\')\\n    axs[0].set(xlabel = \"Slice\", ylabel = \"Nodes\")\\n    axs[0].ticklabel_format(axis=\\'y\\', style=\\'scientific\\',scilimits=(0,0))\\n    axs[1].plot(numS, graphs, \".\")\\n    axs[1].set_title(\\'Contacts\\')\\n    axs[1].set(xlabel = \"Slice\", ylabel = \"Contacts\")\\n    fig.tight_layout(pad=1.0)\\n\\n    plt.savefig(path_to_res + \"k\" + str(k)+ \"_num_contacts_and_nodes.pdf\")\\n    plt.show()\\n\\n\\n\\nlabels_file = path_to_res +\"exp7_len_labels.npy\"\\ngraphs_file = path_to_res +\"exp7_len_graphs.npy\"\\n\\nlabels = np.load(labels_file)\\ngraphs = np.load(graphs_file)\\n\\nnumS = [i+1 for i in range(len(labels))]\\nnumS = np.array(numS)\\n\\nfig, axs = plt.subplots(1, 2)\\nfig.suptitle(\"Delta Slices\")\\naxs[0].plot(numS, labels, \".\")\\naxs[0].set_title(\\'Nodes\\')\\naxs[0].set(xlabel = \"Slice\", ylabel = \"Nodes\")\\naxs[0].ticklabel_format(axis=\\'y\\', style=\\'scientific\\',scilimits=(0,0))\\naxs[1].plot(numS, graphs, \".\")\\naxs[1].set_title(\\'Contacts\\')\\naxs[1].set(xlabel = \"Slice\", ylabel = \"Contacts\")\\nfig.tight_layout(pad=1.0)\\n\\nplt.savefig(path_to_res +\"exp7_num_contacts_and_nodes.pdf\")\\nplt.show()\\n\\nlabels_file = path_to_res +\"exp6_len_labels.npy\"\\ngraphs_file = path_to_res +\"exp6_len_graphs.npy\"\\n\\nlabels = np.load(labels_file)\\ngraphs = np.load(graphs_file)\\n\\nnumS = [i+1 for i in range(len(labels))]\\nnumS = np.array(numS)\\n\\nfig, axs = plt.subplots(1, 2)\\nfig.suptitle(\"Accumulative Slices\")\\naxs[0].plot(numS, labels, \".\")\\naxs[0].set_title(\\'Nodes\\')\\naxs[0].set(xlabel = \"Slice\", ylabel = \"Nodes\")\\naxs[0].ticklabel_format(axis=\\'y\\', style=\\'scientific\\',scilimits=(0,0))\\naxs[1].plot(numS, graphs, \".\")\\naxs[1].set_title(\\'Contacts\\')\\naxs[1].set(xlabel = \"Slice\", ylabel = \"Contacts\")\\nfig.tight_layout(pad=1.0)\\n\\nplt.savefig(path_to_res +\"exp6_num_contacts_and_nodes.pdf\")\\nplt.show()\\n'"
      ]
     },
     "execution_count": 99,
     "metadata": {},
     "output_type": "execute_result"
    }
   ],
   "source": [
    "#Plotting lenght of labels and graph files\n",
    "\"\"\"\n",
    "ks = [600,800]\n",
    "path_to_res = \"./plots_from_notebook/\"\n",
    "\n",
    "path_2_6 = \"../../experiment6/experiment_6/\"\n",
    "num_slices = len(os.listdir(path_2_6)) + 1\n",
    "label_lens = []\n",
    "graph_lens = []\n",
    "for i in range(1,num_slices):\n",
    "    slice = path_2_6 + \"/slice_\" + str(i)\n",
    "    labels = slice + \"/labels_\" + str(i) + \".csv\"\n",
    "    graphs = slice + \"/graph_\" + str(i) + \".mat\"\n",
    "\n",
    "    with open(labels,\"r\") as inf:\n",
    "        label_lens.append(len(inf.readlines()))\n",
    "\n",
    "    with open(graphs,\"r\") as inf:\n",
    "        graph_lens.append(len(inf.readlines()))\n",
    "\n",
    "label_lens = np.array(label_lens)\n",
    "graph_lens = np.array(graph_lens)\n",
    "\n",
    "np.save(path_to_res + \"exp6_len_labels.npy\",label_lens)\n",
    "np.save(path_to_res + \"exp6_len_graphs.npy\",graph_lens)\n",
    "\n",
    "\n",
    "\n",
    "for k in ks:\n",
    "    print(\"new k\")\n",
    "\n",
    "    label_lens = []\n",
    "    graph_lens = []\n",
    "    path = \"../../experiment12/experiment_12/k_\" + str(k) + \"/k\" + str(k)\n",
    "    num_slices = len(os.listdir(path)) + 1\n",
    "    for i in range(1,num_slices):\n",
    "        slice = path + \"/slice_\" + str(i)\n",
    "        labels = slice + \"/labels_\" + str(i) + \".csv\"\n",
    "        graphs = slice + \"/graph_\" + str(i) + \".mat\"\n",
    "        \n",
    "        with open(labels,\"r\") as inf:\n",
    "            label_lens.append(len(inf.readlines()))\n",
    "\n",
    "        with open(graphs,\"r\") as inf:\n",
    "            graph_lens.append(len(inf.readlines()))\n",
    "\n",
    "    label_lens = np.array(label_lens)\n",
    "    graph_lens = np.array(graph_lens)\n",
    "\n",
    "    np.save(path_to_res + \"k\" + str(k) + \"_len_labels.npy\",label_lens)\n",
    "    np.save(path_to_res + \"k\" + str(k) + \"_len_graphs.npy\",graph_lens)\n",
    "\n",
    "for k in ks:\n",
    "    labels_file = path_to_res + \"k\" + str(k) + \"_len_labels.npy\"\n",
    "    graphs_file = path_to_res + \"k\" + str(k) + \"_len_graphs.npy\"\n",
    "\n",
    "    labels = np.load(labels_file)\n",
    "    graphs = np.load(graphs_file)\n",
    "\n",
    "    numS = [i+1 for i in range(len(labels))]\n",
    "    numS = np.array(numS)\n",
    "\n",
    "    fig, axs = plt.subplots(1, 2)\n",
    "    fig.suptitle(\"k \" + str(k))\n",
    "    axs[0].plot(numS, labels, \".\")\n",
    "    axs[0].set_title('Nodes')\n",
    "    axs[0].set(xlabel = \"Slice\", ylabel = \"Nodes\")\n",
    "    axs[0].ticklabel_format(axis='y', style='scientific',scilimits=(0,0))\n",
    "    axs[1].plot(numS, graphs, \".\")\n",
    "    axs[1].set_title('Contacts')\n",
    "    axs[1].set(xlabel = \"Slice\", ylabel = \"Contacts\")\n",
    "    fig.tight_layout(pad=1.0)\n",
    "\n",
    "    plt.savefig(path_to_res + \"k\" + str(k)+ \"_num_contacts_and_nodes.pdf\")\n",
    "    plt.show()\n",
    "\n",
    "\n",
    "\n",
    "labels_file = path_to_res +\"exp7_len_labels.npy\"\n",
    "graphs_file = path_to_res +\"exp7_len_graphs.npy\"\n",
    "\n",
    "labels = np.load(labels_file)\n",
    "graphs = np.load(graphs_file)\n",
    "\n",
    "numS = [i+1 for i in range(len(labels))]\n",
    "numS = np.array(numS)\n",
    "\n",
    "fig, axs = plt.subplots(1, 2)\n",
    "fig.suptitle(\"Delta Slices\")\n",
    "axs[0].plot(numS, labels, \".\")\n",
    "axs[0].set_title('Nodes')\n",
    "axs[0].set(xlabel = \"Slice\", ylabel = \"Nodes\")\n",
    "axs[0].ticklabel_format(axis='y', style='scientific',scilimits=(0,0))\n",
    "axs[1].plot(numS, graphs, \".\")\n",
    "axs[1].set_title('Contacts')\n",
    "axs[1].set(xlabel = \"Slice\", ylabel = \"Contacts\")\n",
    "fig.tight_layout(pad=1.0)\n",
    "\n",
    "plt.savefig(path_to_res +\"exp7_num_contacts_and_nodes.pdf\")\n",
    "plt.show()\n",
    "\n",
    "labels_file = path_to_res +\"exp6_len_labels.npy\"\n",
    "graphs_file = path_to_res +\"exp6_len_graphs.npy\"\n",
    "\n",
    "labels = np.load(labels_file)\n",
    "graphs = np.load(graphs_file)\n",
    "\n",
    "numS = [i+1 for i in range(len(labels))]\n",
    "numS = np.array(numS)\n",
    "\n",
    "fig, axs = plt.subplots(1, 2)\n",
    "fig.suptitle(\"Accumulative Slices\")\n",
    "axs[0].plot(numS, labels, \".\")\n",
    "axs[0].set_title('Nodes')\n",
    "axs[0].set(xlabel = \"Slice\", ylabel = \"Nodes\")\n",
    "axs[0].ticklabel_format(axis='y', style='scientific',scilimits=(0,0))\n",
    "axs[1].plot(numS, graphs, \".\")\n",
    "axs[1].set_title('Contacts')\n",
    "axs[1].set(xlabel = \"Slice\", ylabel = \"Contacts\")\n",
    "fig.tight_layout(pad=1.0)\n",
    "\n",
    "plt.savefig(path_to_res +\"exp6_num_contacts_and_nodes.pdf\")\n",
    "plt.show()\n",
    "\"\"\"\n",
    "\n",
    "\n",
    "\n",
    "\n",
    "\n",
    "\n",
    "\n",
    "\n",
    "\n",
    "\n"
   ]
  },
  {
   "cell_type": "code",
   "execution_count": 100,
   "id": "2c03936d",
   "metadata": {},
   "outputs": [
    {
     "data": {
      "text/plain": [
       "'\\nN = 10000\\nmat = np.ones([N,N])\\n\\nmaxN = 3\\nmat[50,500] = 5\\nmat[40,400] = 4\\nmat[30,300] = 3\\nidxs = []\\n\\nmat_i = np.argsort(mat.ravel())[::-1]  #flatten and sorted after arguments\\n\\nt_s = time.perf_counter()\\nresult = [(int(k//mat.shape[1]), int(k%mat.shape[1])) for k in mat_i][:maxN] #unravel indexes, pick out 3 largest\\nt_e = time.perf_counter()\\nhjemmesnekk_t = t_e-t_s\\n\\nt_s = time.perf_counter()\\ntest = np.unravel_index(mat_i, mat.shape)\\nfor i in range(3):\\n    idxs.append((test[0][i],test[1][i]))\\nt_e = time.perf_counter()\\nnumpy_t = t_e-t_s\\n\\nprint(f\"Hjemmesnekk resulterte i {idxs} på {hjemmesnekk_t:0.4f} s\")\\nprint(f\"Np.unravel resulterte i {result} på {numpy_t:0.4f} s\")\\n'"
      ]
     },
     "execution_count": 100,
     "metadata": {},
     "output_type": "execute_result"
    }
   ],
   "source": [
    "\"\"\"\n",
    "N = 10000\n",
    "mat = np.ones([N,N])\n",
    "\n",
    "maxN = 3\n",
    "mat[50,500] = 5\n",
    "mat[40,400] = 4\n",
    "mat[30,300] = 3\n",
    "idxs = []\n",
    "\n",
    "mat_i = np.argsort(mat.ravel())[::-1]  #flatten and sorted after arguments\n",
    "\n",
    "t_s = time.perf_counter()\n",
    "result = [(int(k//mat.shape[1]), int(k%mat.shape[1])) for k in mat_i][:maxN] #unravel indexes, pick out 3 largest\n",
    "t_e = time.perf_counter()\n",
    "hjemmesnekk_t = t_e-t_s\n",
    "\n",
    "t_s = time.perf_counter()\n",
    "test = np.unravel_index(mat_i, mat.shape)\n",
    "for i in range(3):\n",
    "    idxs.append((test[0][i],test[1][i]))\n",
    "t_e = time.perf_counter()\n",
    "numpy_t = t_e-t_s\n",
    "\n",
    "print(f\"Hjemmesnekk resulterte i {idxs} på {hjemmesnekk_t:0.4f} s\")\n",
    "print(f\"Np.unravel resulterte i {result} på {numpy_t:0.4f} s\")\n",
    "\"\"\"\n"
   ]
  }
 ],
 "metadata": {
  "kernelspec": {
   "display_name": "Python 3 (ipykernel)",
   "language": "python",
   "name": "python3"
  },
  "language_info": {
   "codemirror_mode": {
    "name": "ipython",
    "version": 3
   },
   "file_extension": ".py",
   "mimetype": "text/x-python",
   "name": "python",
   "nbconvert_exporter": "python",
   "pygments_lexer": "ipython3",
   "version": "3.9.5"
  }
 },
 "nbformat": 4,
 "nbformat_minor": 5
}
