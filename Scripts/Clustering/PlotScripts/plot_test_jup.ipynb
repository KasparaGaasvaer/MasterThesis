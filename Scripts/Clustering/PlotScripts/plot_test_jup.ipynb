{
 "cells": [
  {
   "cell_type": "code",
   "execution_count": 1,
   "id": "1d1c21ed",
   "metadata": {},
   "outputs": [],
   "source": [
    "# Testing \n",
    "import numpy as np \n",
    "import matplotlib.pyplot as plt\n",
    "import sys,os,time"
   ]
  },
  {
   "cell_type": "code",
   "execution_count": 2,
   "id": "bee1c7dc",
   "metadata": {},
   "outputs": [
    {
     "name": "stdout",
     "output_type": "stream",
     "text": [
      "new k\n",
      "new k\n"
     ]
    },
    {
     "data": {
      "image/png": "[encoded data removed]",
      "text/plain": [
       "<Figure size 432x288 with 2 Axes>"
      ]
     },
     "metadata": {
      "needs_background": "light"
     },
     "output_type": "display_data"
    },
    {
     "data": {
      "image/png": "[encoded data removed]",
      "text/plain": [
       "<Figure size 432x288 with 2 Axes>"
      ]
     },
     "metadata": {
      "needs_background": "light"
     },
     "output_type": "display_data"
    },
    {
     "data": {
      "text/plain": [
       "'\\n\\nlabels_file = path_to_res +\"exp7_len_labels.npy\"\\ngraphs_file = path_to_res +\"exp7_len_graphs.npy\"\\n\\nlabels = np.load(labels_file)\\ngraphs = np.load(graphs_file)\\n\\nnumS = [i+1 for i in range(len(labels))]\\nnumS = np.array(numS)\\n\\nfig, axs = plt.subplots(1, 2)\\nfig.suptitle(\"experiment 7\")\\naxs[0].plot(numS, labels, \".\")\\naxs[0].set_title(\\'Nodes\\')\\naxs[0].set(xlabel = \"Slice\", ylabel = \"Nodes\")\\naxs[0].ticklabel_format(axis=\\'y\\', style=\\'scientific\\',scilimits=(0,0))\\naxs[1].plot(numS, graphs, \".\")\\naxs[1].set_title(\\'Contacts\\')\\naxs[1].set(xlabel = \"Slice\", ylabel = \"Contacts\")\\nfig.tight_layout(pad=1.0)\\n\\nplt.savefig(path_to_res +\"exp7_num_contacts_and_nodes.pdf\")\\nplt.show()\\n\\n'"
      ]
     },
     "execution_count": 2,
     "metadata": {},
     "output_type": "execute_result"
    }
   ],
   "source": [
    "#Plotting lenght of labels and graph files\n",
    "ks = [600,800]\n",
    "path_to_res = \"./plots_from_notebook/\"\n",
    "\n",
    "\n",
    "for k in ks:\n",
    "    print(\"new k\")\n",
    "\n",
    "    label_lens = []\n",
    "    graph_lens = []\n",
    "    path = \"../../experiment12/experiment_12/k_\" + str(k) + \"/k\" + str(k)\n",
    "    num_slices = len(os.listdir(path)) + 1\n",
    "    for i in range(1,num_slices):\n",
    "        slice = path + \"/slice_\" + str(i)\n",
    "        labels = slice + \"/labels_\" + str(i) + \".csv\"\n",
    "        graphs = slice + \"/graph_\" + str(i) + \".mat\"\n",
    "        \n",
    "        with open(labels,\"r\") as inf:\n",
    "            label_lens.append(len(inf.readlines()))\n",
    "\n",
    "        with open(graphs,\"r\") as inf:\n",
    "            graph_lens.append(len(inf.readlines()))\n",
    "\n",
    "    label_lens = np.array(label_lens)\n",
    "    graph_lens = np.array(graph_lens)\n",
    "\n",
    "    np.save(path_to_res + \"k\" + str(k) + \"_len_labels.npy\",label_lens)\n",
    "    np.save(path_to_res + \"k\" + str(k) + \"_len_graphs.npy\",graph_lens)\n",
    "\n",
    "for k in ks:\n",
    "    labels_file = path_to_res + \"k\" + str(k) + \"_len_labels.npy\"\n",
    "    graphs_file = path_to_res + \"k\" + str(k) + \"_len_graphs.npy\"\n",
    "\n",
    "    labels = np.load(labels_file)\n",
    "    graphs = np.load(graphs_file)\n",
    "\n",
    "    numS = [i+1 for i in range(len(labels))]\n",
    "    numS = np.array(numS)\n",
    "\n",
    "    fig, axs = plt.subplots(1, 2)\n",
    "    fig.suptitle(\"k \" + str(k))\n",
    "    axs[0].plot(numS, labels, \".\")\n",
    "    axs[0].set_title('Nodes')\n",
    "    axs[0].set(xlabel = \"Slice\", ylabel = \"Nodes\")\n",
    "    axs[0].ticklabel_format(axis='y', style='scientific',scilimits=(0,0))\n",
    "    axs[1].plot(numS, graphs, \".\")\n",
    "    axs[1].set_title('Contacts')\n",
    "    axs[1].set(xlabel = \"Slice\", ylabel = \"Contacts\")\n",
    "    fig.tight_layout(pad=1.0)\n",
    "\n",
    "    plt.savefig(path_to_res + \"k\" + str(k)+ \"_num_contacts_and_nodes.pdf\")\n",
    "    plt.show()\n",
    "\n",
    "\"\"\"\n",
    "\n",
    "labels_file = path_to_res +\"exp7_len_labels.npy\"\n",
    "graphs_file = path_to_res +\"exp7_len_graphs.npy\"\n",
    "\n",
    "labels = np.load(labels_file)\n",
    "graphs = np.load(graphs_file)\n",
    "\n",
    "numS = [i+1 for i in range(len(labels))]\n",
    "numS = np.array(numS)\n",
    "\n",
    "fig, axs = plt.subplots(1, 2)\n",
    "fig.suptitle(\"experiment 7\")\n",
    "axs[0].plot(numS, labels, \".\")\n",
    "axs[0].set_title('Nodes')\n",
    "axs[0].set(xlabel = \"Slice\", ylabel = \"Nodes\")\n",
    "axs[0].ticklabel_format(axis='y', style='scientific',scilimits=(0,0))\n",
    "axs[1].plot(numS, graphs, \".\")\n",
    "axs[1].set_title('Contacts')\n",
    "axs[1].set(xlabel = \"Slice\", ylabel = \"Contacts\")\n",
    "fig.tight_layout(pad=1.0)\n",
    "\n",
    "plt.savefig(path_to_res +\"exp7_num_contacts_and_nodes.pdf\")\n",
    "plt.show()\n",
    "\n",
    "\"\"\"\n",
    "\n",
    "\n",
    "\n",
    "\n",
    "\n",
    "\n",
    "\n",
    "\n"
   ]
  },
  {
   "cell_type": "code",
   "execution_count": 72,
   "id": "2c03936d",
   "metadata": {},
   "outputs": [
    {
     "name": "stdout",
     "output_type": "stream",
     "text": [
      "Hjemmesnekk resulterte i [(50, 500), (40, 400), (30, 300)] på 101.5893 s\n",
      "Np.unravel resulterte i [(50, 500), (40, 400), (30, 300)] på 9.4462 s\n"
     ]
    }
   ],
   "source": [
    "N = 10000\n",
    "mat = np.ones([N,N])\n",
    "\n",
    "maxN = 3\n",
    "mat[50,500] = 5\n",
    "mat[40,400] = 4\n",
    "mat[30,300] = 3\n",
    "idxs = []\n",
    "\n",
    "mat_i = np.argsort(mat.ravel())[::-1]  #flatten and sorted after arguments\n",
    "\n",
    "t_s = time.perf_counter()\n",
    "result = [(int(k//mat.shape[1]), int(k%mat.shape[1])) for k in mat_i][:maxN] #unravel indexes, pick out 3 largest\n",
    "t_e = time.perf_counter()\n",
    "hjemmesnekk_t = t_e-t_s\n",
    "\n",
    "t_s = time.perf_counter()\n",
    "test = np.unravel_index(mat_i, mat.shape)\n",
    "for i in range(3):\n",
    "    idxs.append((test[0][i],test[1][i]))\n",
    "t_e = time.perf_counter()\n",
    "numpy_t = t_e-t_s\n",
    "\n",
    "print(f\"Hjemmesnekk resulterte i {idxs} på {hjemmesnekk_t:0.4f} s\")\n",
    "print(f\"Np.unravel resulterte i {result} på {numpy_t:0.4f} s\")\n"
   ]
  }
 ],
 "metadata": {
  "kernelspec": {
   "display_name": "Python 3 (ipykernel)",
   "language": "python",
   "name": "python3"
  },
  "language_info": {
   "codemirror_mode": {
    "name": "ipython",
    "version": 3
   },
   "file_extension": ".py",
   "mimetype": "text/x-python",
   "name": "python",
   "nbconvert_exporter": "python",
   "pygments_lexer": "ipython3",
   "version": "3.9.5"
  }
 },
 "nbformat": 4,
 "nbformat_minor": 5
}
