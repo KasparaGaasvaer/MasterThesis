{
 "cells": [
  {
   "cell_type": "code",
   "execution_count": null,
   "metadata": {},
   "outputs": [],
   "source": [
    "import numpy as np\n",
    "import json\n",
    "from scipy.optimize import curve_fit\n",
    "from scipy.interpolate import UnivariateSpline\n",
    "\n",
    "path_to_stats_results = \"../experiment7statistics/partition_worker/\"\n",
    "filename_cluster_size_dist = \"cluster_size_distribution_lprop.json\"\n",
    "\n",
    "with open(path_to_stats_results + filename_cluster_size_dist,\"r\") as inff:\n",
    "    dist_dict = json.load(inff)\n",
    "\n",
    "f_exp = lambda x,a,b: np.exp(a*x + b)\n",
    "f_lin = lambda x,a,b: a*x + b\n",
    "fit_var = {}\n",
    "\n",
    "for s in dist_dict.keys():\n",
    "\n",
    "    slice = dist_dict[s]\n",
    "    print(s)\n",
    "\n",
    "    freq = np.array(slice)\n",
    "    sizes = np.where(freq != 0)\n",
    "    \n",
    "        \n",
    "    freq = freq[sizes]\n",
    "    sizes = sizes[0]\n",
    "\n",
    "    if s == \"68\":\n",
    "        spl = UnivariateSpline(sizes,freq,k = 3)\n",
    "        plt.plot(sizes,freq,\"*\")\n",
    "        plt.plot(sizes, spl(sizes), label = f\"{spl.get_coeffs()}\")\n",
    "        plt.xlabel(\"Sizes\")\n",
    "        plt.ylabel(\"Frequency\")\n",
    "        plt.legend()\n",
    "        plt.xscale(\"log\")\n",
    "        plt.yscale(\"log\")\n",
    "        plt.show()\n",
    "        #plt.savefig(f\"s{s}_test_{self.method}.pdf\")\n",
    "        #plt.clf()"
   ]
  }
 ],
 "metadata": {
  "language_info": {
   "name": "python"
  },
  "orig_nbformat": 4
 },
 "nbformat": 4,
 "nbformat_minor": 2
}
