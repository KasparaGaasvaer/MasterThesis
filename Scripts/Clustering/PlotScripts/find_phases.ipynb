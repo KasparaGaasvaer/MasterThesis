{
 "cells": [
  {
   "cell_type": "code",
   "execution_count": 1,
   "metadata": {},
   "outputs": [
    {
     "name": "stdout",
     "output_type": "stream",
     "text": [
      "45 21564\n",
      "90 29288\n"
     ]
    },
    {
     "data": {
      "image/png": "[encoded data removed]",
      "text/plain": [
       "<Figure size 432x288 with 1 Axes>"
      ]
     },
     "metadata": {
      "needs_background": "light"
     },
     "output_type": "display_data"
    }
   ],
   "source": [
    "# if contacts > something : new phase\n",
    "# if contacts < something : new phase \n",
    "import numpy as np\n",
    "import matplotlib.pyplot as plt\n",
    "\n",
    "path_res = [\"../../experiment7/statistics/ExpStats/\"]#[\"../../experiment8/statistics/ExpStats/\", \"../../experiment9/statistics/ExpStats/\"]\n",
    "\n",
    "for path in path_res:\n",
    "    con = np.load(path + \"len_graphs.npy\")\n",
    "    save_path = path.split(\"Exp\")[0] + \"Centrality/slice_phases.npy\"\n",
    "\n",
    "    num_s  = len(con)\n",
    "    cond1= 0.2*(1e5)\n",
    "    cond2= 0.3*(1e5)\n",
    "\n",
    "    slice_p = np.zeros(2)\n",
    "    done = False\n",
    "    for i in range(num_s):\n",
    "        if done:\n",
    "            break\n",
    "        c = con[i]\n",
    "        if c > cond1:\n",
    "            slice_p[0] = i\n",
    "            for j in range(i+1,num_s):\n",
    "                c = con[j]\n",
    "                if c < cond2 and j > num_s//1.5:\n",
    "                    slice_p[1] = j\n",
    "                    done = True\n",
    "                    break\n",
    "\n",
    "    np.save(save_path, slice_p)\n",
    "\n",
    "\n",
    "\n",
    "    sll = [i for i in range(1,num_s+1)]\n",
    "    plt.plot(sll,con, \"b.\")\n",
    "    for si in slice_p:\n",
    "        plt.plot(sll[int(si)], con[int(si)], \"r.\")\n",
    "        print(sll[int(si)], con[int(si)])\n",
    "\n",
    "    plt.show()\n",
    "\n",
    "\n",
    "\n",
    "    \n",
    "\n",
    "\n"
   ]
  }
 ],
 "metadata": {
  "interpreter": {
   "hash": "d0c98ef271a27947e434cdf0cfdbd87302ad69ecea1ddf9cf9cdbf9f0702fcca"
  },
  "kernelspec": {
   "display_name": "Python 3.9.5 ('base')",
   "language": "python",
   "name": "python3"
  },
  "language_info": {
   "codemirror_mode": {
    "name": "ipython",
    "version": 3
   },
   "file_extension": ".py",
   "mimetype": "text/x-python",
   "name": "python",
   "nbconvert_exporter": "python",
   "pygments_lexer": "ipython3",
   "version": "3.9.5"
  },
  "orig_nbformat": 4
 },
 "nbformat": 4,
 "nbformat_minor": 2
}
