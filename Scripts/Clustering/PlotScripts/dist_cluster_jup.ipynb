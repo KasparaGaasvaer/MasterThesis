{
 "cells": [
  {
   "cell_type": "code",
   "execution_count": 22,
   "metadata": {},
   "outputs": [
    {
     "data": {
      "image/png": "[encoded data removed]",
      "text/plain": [
       "<Figure size 432x288 with 1 Axes>"
      ]
     },
     "metadata": {
      "needs_background": "light"
     },
     "output_type": "display_data"
    },
    {
     "data": {
      "image/png": "[encoded data removed]",
      "text/plain": [
       "<Figure size 432x288 with 1 Axes>"
      ]
     },
     "metadata": {
      "needs_background": "light"
     },
     "output_type": "display_data"
    }
   ],
   "source": [
    "import numpy as np\n",
    "import matplotlib.pyplot as plt \n",
    "import json \n",
    "\n",
    "\n",
    "p2d = \"../../experiment6/parsed_dictionaries/\"\n",
    "with open(p2d + \"partitions_louvain.json\",\"r\") as infile:\n",
    "    d = json.load(infile)\n",
    "\n",
    "slices = {}\n",
    "for slice in d.keys():\n",
    "    s = d[slice]\n",
    "    max_nodes = max(len(vals) for vals in s.values())\n",
    "    slices[slice] = [0] * (max_nodes + 1)\n",
    "    for k in s.keys():\n",
    "        n = len(s[k])\n",
    "        slices[slice][n] += 1\n",
    "\n",
    "dist = slices[\"1\"]\n",
    "plt.bar(range(len(dist)), dist)\n",
    "plt.yscale(\"log\")\n",
    "plt.xscale(\"log\")\n",
    "plt.show()\n",
    "\n",
    "\n",
    "p2d = \"../../experiment12/experiment_12/k_600/parsed_dictionaries/Clusters/\"\n",
    "\n",
    "with open(p2d +\"c_1.json\",\"r\") as infile:\n",
    "    slice = json.load(infile)\n",
    "\n",
    "maxx = 0\n",
    "for c in slice.keys():\n",
    "    L  = len(slice[c][\"uid\"])\n",
    "    if L > maxx:\n",
    "        maxx = L\n",
    "\n",
    "binns = [0] * (maxx + 1)\n",
    "for k in slice.keys():\n",
    "    n = len(slice[k][\"uid\"])\n",
    "    binns[n] += 1\n",
    "\n",
    "plt.bar(range(len(binns)), binns)\n",
    "plt.yscale(\"log\")\n",
    "plt.xscale(\"log\")\n",
    "plt.show()\n",
    "\n",
    "\n",
    "\n"
   ]
  },
  {
   "cell_type": "code",
   "execution_count": null,
   "metadata": {},
   "outputs": [],
   "source": [
    "for cluster in s1:\n",
    "    if c1 in s2 == c2 in s1:\n",
    "        then same \n",
    "\n",
    "    if not:\n",
    "        new branch \n",
    "        "
   ]
  }
 ],
 "metadata": {
  "interpreter": {
   "hash": "fd69f43f58546b570e94fd7eba7b65e6bcc7a5bbc4eab0408017d18902915d69"
  },
  "kernelspec": {
   "display_name": "Python 3.7.5 64-bit",
   "language": "python",
   "name": "python3"
  },
  "language_info": {
   "codemirror_mode": {
    "name": "ipython",
    "version": 3
   },
   "file_extension": ".py",
   "mimetype": "text/x-python",
   "name": "python",
   "nbconvert_exporter": "python",
   "pygments_lexer": "ipython3",
   "version": "3.9.5"
  },
  "orig_nbformat": 4
 },
 "nbformat": 4,
 "nbformat_minor": 2
}
