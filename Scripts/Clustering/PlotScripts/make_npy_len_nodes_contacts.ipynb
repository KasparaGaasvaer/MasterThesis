{
 "cells": [
  {
   "cell_type": "code",
   "execution_count": 1,
   "metadata": {},
   "outputs": [
    {
     "name": "stdout",
     "output_type": "stream",
     "text": [
      "Experiment  0\n"
     ]
    }
   ],
   "source": [
    "import numpy as np\n",
    "import os\n",
    "\n",
    "\n",
    "#Calculating lenght of labels and graph files\n",
    "\n",
    "paths_2_res = [\"../../experiment7/statistics/ExpStats/\"] #[\"../../experiment8/statistics/ExpStats/\", \"../../experiment9/statistics/ExpStats/\",\"../../experiment6/statistics/ExpStats/\",\"../../experiment600/statistics/ExpStats/\", \"../../experiment800/statistics/ExpStats/\"]\n",
    "for path in paths_2_res:\n",
    "    if not os.path.exists(path):\n",
    "        os.makedirs(path)\n",
    "\n",
    "\n",
    "\n",
    "paths = [\"../../experiment7/experiment_7/\"]#[\"../../experiment8/experiment_8/\",\"../../experiment9/experiment_9/\",\"../../experiment6/experiment_6/\", \"../../experiment600/experiment_600/\", \"../../experiment800/experiment_800/\"]\n",
    "\n",
    "for p in range(len(paths)):\n",
    "    print(\"Experiment \", p)\n",
    "    path = paths[p]\n",
    "    path_to_res = paths_2_res[p]\n",
    "    num_slices = len(os.listdir(path)) + 1\n",
    "    label_lens = []\n",
    "    graph_lens = []\n",
    "\n",
    "    for i in range(1,num_slices):\n",
    "        slice = path + \"/slice_\" + str(i)\n",
    "        labels = slice + \"/labels_\" + str(i) + \".csv\"\n",
    "        graphs = slice + \"/graph_\" + str(i) + \".mat\"\n",
    "\n",
    "        with open(labels,\"r\") as inf:\n",
    "            label_lens.append(len(inf.readlines()))\n",
    "\n",
    "        with open(graphs,\"r\") as inf:\n",
    "            graph_lens.append(len(inf.readlines()))\n",
    "\n",
    "    label_lens = np.array(label_lens)\n",
    "    graph_lens = np.array(graph_lens)\n",
    "\n",
    "    np.save(path_to_res + \"len_labels.npy\",label_lens)\n",
    "    np.save(path_to_res + \"len_graphs.npy\",graph_lens)\n",
    "\n"
   ]
  }
 ],
 "metadata": {
  "interpreter": {
   "hash": "d0c98ef271a27947e434cdf0cfdbd87302ad69ecea1ddf9cf9cdbf9f0702fcca"
  },
  "kernelspec": {
   "display_name": "Python 3.9.5 ('base')",
   "language": "python",
   "name": "python3"
  },
  "language_info": {
   "codemirror_mode": {
    "name": "ipython",
    "version": 3
   },
   "file_extension": ".py",
   "mimetype": "text/x-python",
   "name": "python",
   "nbconvert_exporter": "python",
   "pygments_lexer": "ipython3",
   "version": "3.9.5"
  },
  "orig_nbformat": 4
 },
 "nbformat": 4,
 "nbformat_minor": 2
}
